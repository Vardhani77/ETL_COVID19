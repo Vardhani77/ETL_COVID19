{
 "cells": [
  {
   "cell_type": "code",
   "execution_count": 8,
   "id": "d9b342e6",
   "metadata": {},
   "outputs": [],
   "source": [
    "import requests"
   ]
  },
  {
   "cell_type": "code",
   "execution_count": null,
   "id": "553f4384",
   "metadata": {},
   "outputs": [],
   "source": []
  },
  {
   "cell_type": "code",
   "execution_count": 9,
   "id": "09d54d37",
   "metadata": {},
   "outputs": [],
   "source": [
    "urls = ['https://covid19.who.int/WHO-COVID-19-global-data.csv',\n",
    "        'https://covid19.who.int/who-data/vaccination-data.csv']"
   ]
  },
  {
   "cell_type": "code",
   "execution_count": null,
   "id": "cc0ac328",
   "metadata": {},
   "outputs": [],
   "source": []
  },
  {
   "cell_type": "code",
   "execution_count": 10,
   "id": "8fa614a1",
   "metadata": {
    "collapsed": true
   },
   "outputs": [
    {
     "name": "stdout",
     "output_type": "stream",
     "text": [
      "0 https://covid19.who.int/WHO-COVID-19-global-data.csv\n",
      "1 https://covid19.who.int/who-data/vaccination-data.csv\n"
     ]
    }
   ],
   "source": [
    "for i, url in enumerate(urls):\n",
    "    \n",
    "    req = requests.get(url)\n",
    "    url_content = req.content\n",
    "    \n",
    "    csv_file = open('downloaded'+str(i)+'.csv', 'wb')\n",
    "    csv_file.write(url_content)\n",
    "    csv_file.close()\n",
    "    "
   ]
  },
  {
   "cell_type": "code",
   "execution_count": null,
   "id": "367d49fe",
   "metadata": {},
   "outputs": [],
   "source": []
  },
  {
   "cell_type": "code",
   "execution_count": 11,
   "id": "24227330",
   "metadata": {},
   "outputs": [
    {
     "name": "stdout",
     "output_type": "stream",
     "text": [
      "files downloded successfully!!!\n"
     ]
    }
   ],
   "source": [
    "print('files extracted successfully!!!')"
   ]
  },
  {
   "cell_type": "code",
   "execution_count": null,
   "id": "90691c3b",
   "metadata": {},
   "outputs": [],
   "source": []
  }
 ],
 "metadata": {
  "kernelspec": {
   "display_name": "Python 3 (ipykernel)",
   "language": "python",
   "name": "python3"
  },
  "language_info": {
   "codemirror_mode": {
    "name": "ipython",
    "version": 3
   },
   "file_extension": ".py",
   "mimetype": "text/x-python",
   "name": "python",
   "nbconvert_exporter": "python",
   "pygments_lexer": "ipython3",
   "version": "3.11.5"
  }
 },
 "nbformat": 4,
 "nbformat_minor": 5
}
