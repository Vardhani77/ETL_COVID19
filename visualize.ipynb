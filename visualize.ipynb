{
 "cells": [
  {
   "cell_type": "code",
   "execution_count": 5,
   "id": "2ba232d1",
   "metadata": {},
   "outputs": [],
   "source": [
    "import pandas as pd\n",
    "import seaborn as sns\n",
    "import matplotlib.pyplot as plt"
   ]
  },
  {
   "cell_type": "code",
   "execution_count": null,
   "id": "f8fa62c2",
   "metadata": {},
   "outputs": [],
   "source": []
  },
  {
   "cell_type": "code",
   "execution_count": 6,
   "id": "d8849cf2",
   "metadata": {},
   "outputs": [
    {
     "data": {
      "text/html": [
       "<div>\n",
       "<style scoped>\n",
       "    .dataframe tbody tr th:only-of-type {\n",
       "        vertical-align: middle;\n",
       "    }\n",
       "\n",
       "    .dataframe tbody tr th {\n",
       "        vertical-align: top;\n",
       "    }\n",
       "\n",
       "    .dataframe thead th {\n",
       "        text-align: right;\n",
       "    }\n",
       "</style>\n",
       "<table border=\"1\" class=\"dataframe\">\n",
       "  <thead>\n",
       "    <tr style=\"text-align: right;\">\n",
       "      <th></th>\n",
       "      <th>Country</th>\n",
       "      <th>TOTAL_VACCINATIONS</th>\n",
       "      <th>Date_reported</th>\n",
       "      <th>Country_code</th>\n",
       "      <th>WHO_region</th>\n",
       "      <th>Cumulative_cases</th>\n",
       "      <th>Cumulative_deaths</th>\n",
       "    </tr>\n",
       "  </thead>\n",
       "  <tbody>\n",
       "    <tr>\n",
       "      <th>0</th>\n",
       "      <td>Afghanistan</td>\n",
       "      <td>22207574.0</td>\n",
       "      <td>2020</td>\n",
       "      <td>AF</td>\n",
       "      <td>EMRO</td>\n",
       "      <td>52330</td>\n",
       "      <td>2189</td>\n",
       "    </tr>\n",
       "    <tr>\n",
       "      <th>1</th>\n",
       "      <td>Afghanistan</td>\n",
       "      <td>22207574.0</td>\n",
       "      <td>2021</td>\n",
       "      <td>AF</td>\n",
       "      <td>EMRO</td>\n",
       "      <td>158059</td>\n",
       "      <td>7356</td>\n",
       "    </tr>\n",
       "    <tr>\n",
       "      <th>2</th>\n",
       "      <td>Afghanistan</td>\n",
       "      <td>22207574.0</td>\n",
       "      <td>2022</td>\n",
       "      <td>AF</td>\n",
       "      <td>EMRO</td>\n",
       "      <td>207554</td>\n",
       "      <td>7849</td>\n",
       "    </tr>\n",
       "    <tr>\n",
       "      <th>3</th>\n",
       "      <td>Afghanistan</td>\n",
       "      <td>22207574.0</td>\n",
       "      <td>2023</td>\n",
       "      <td>AF</td>\n",
       "      <td>EMRO</td>\n",
       "      <td>227319</td>\n",
       "      <td>7952</td>\n",
       "    </tr>\n",
       "    <tr>\n",
       "      <th>4</th>\n",
       "      <td>Albania</td>\n",
       "      <td>3088966.0</td>\n",
       "      <td>2020</td>\n",
       "      <td>AL</td>\n",
       "      <td>EURO</td>\n",
       "      <td>57146</td>\n",
       "      <td>1170</td>\n",
       "    </tr>\n",
       "    <tr>\n",
       "      <th>5</th>\n",
       "      <td>Albania</td>\n",
       "      <td>3088966.0</td>\n",
       "      <td>2021</td>\n",
       "      <td>AL</td>\n",
       "      <td>EURO</td>\n",
       "      <td>208899</td>\n",
       "      <td>3212</td>\n",
       "    </tr>\n",
       "    <tr>\n",
       "      <th>6</th>\n",
       "      <td>Albania</td>\n",
       "      <td>3088966.0</td>\n",
       "      <td>2022</td>\n",
       "      <td>AL</td>\n",
       "      <td>EURO</td>\n",
       "      <td>332768</td>\n",
       "      <td>3596</td>\n",
       "    </tr>\n",
       "    <tr>\n",
       "      <th>7</th>\n",
       "      <td>Albania</td>\n",
       "      <td>3088966.0</td>\n",
       "      <td>2023</td>\n",
       "      <td>AL</td>\n",
       "      <td>EURO</td>\n",
       "      <td>334090</td>\n",
       "      <td>3604</td>\n",
       "    </tr>\n",
       "    <tr>\n",
       "      <th>8</th>\n",
       "      <td>Algeria</td>\n",
       "      <td>15267442.0</td>\n",
       "      <td>2020</td>\n",
       "      <td>DZ</td>\n",
       "      <td>AFRO</td>\n",
       "      <td>99311</td>\n",
       "      <td>2751</td>\n",
       "    </tr>\n",
       "    <tr>\n",
       "      <th>9</th>\n",
       "      <td>Algeria</td>\n",
       "      <td>15267442.0</td>\n",
       "      <td>2021</td>\n",
       "      <td>DZ</td>\n",
       "      <td>AFRO</td>\n",
       "      <td>218037</td>\n",
       "      <td>6271</td>\n",
       "    </tr>\n",
       "    <tr>\n",
       "      <th>10</th>\n",
       "      <td>Algeria</td>\n",
       "      <td>15267442.0</td>\n",
       "      <td>2022</td>\n",
       "      <td>DZ</td>\n",
       "      <td>AFRO</td>\n",
       "      <td>271217</td>\n",
       "      <td>6881</td>\n",
       "    </tr>\n",
       "    <tr>\n",
       "      <th>11</th>\n",
       "      <td>Algeria</td>\n",
       "      <td>15267442.0</td>\n",
       "      <td>2023</td>\n",
       "      <td>DZ</td>\n",
       "      <td>AFRO</td>\n",
       "      <td>271945</td>\n",
       "      <td>6881</td>\n",
       "    </tr>\n",
       "    <tr>\n",
       "      <th>12</th>\n",
       "      <td>American Samoa</td>\n",
       "      <td>114706.0</td>\n",
       "      <td>2020</td>\n",
       "      <td>AS</td>\n",
       "      <td>WPRO</td>\n",
       "      <td>0</td>\n",
       "      <td>0</td>\n",
       "    </tr>\n",
       "    <tr>\n",
       "      <th>13</th>\n",
       "      <td>American Samoa</td>\n",
       "      <td>114706.0</td>\n",
       "      <td>2021</td>\n",
       "      <td>AS</td>\n",
       "      <td>WPRO</td>\n",
       "      <td>11</td>\n",
       "      <td>0</td>\n",
       "    </tr>\n",
       "    <tr>\n",
       "      <th>14</th>\n",
       "      <td>American Samoa</td>\n",
       "      <td>114706.0</td>\n",
       "      <td>2022</td>\n",
       "      <td>AS</td>\n",
       "      <td>WPRO</td>\n",
       "      <td>8285</td>\n",
       "      <td>34</td>\n",
       "    </tr>\n",
       "  </tbody>\n",
       "</table>\n",
       "</div>"
      ],
      "text/plain": [
       "           Country  TOTAL_VACCINATIONS  Date_reported Country_code WHO_region  \\\n",
       "0      Afghanistan          22207574.0           2020           AF       EMRO   \n",
       "1      Afghanistan          22207574.0           2021           AF       EMRO   \n",
       "2      Afghanistan          22207574.0           2022           AF       EMRO   \n",
       "3      Afghanistan          22207574.0           2023           AF       EMRO   \n",
       "4          Albania           3088966.0           2020           AL       EURO   \n",
       "5          Albania           3088966.0           2021           AL       EURO   \n",
       "6          Albania           3088966.0           2022           AL       EURO   \n",
       "7          Albania           3088966.0           2023           AL       EURO   \n",
       "8          Algeria          15267442.0           2020           DZ       AFRO   \n",
       "9          Algeria          15267442.0           2021           DZ       AFRO   \n",
       "10         Algeria          15267442.0           2022           DZ       AFRO   \n",
       "11         Algeria          15267442.0           2023           DZ       AFRO   \n",
       "12  American Samoa            114706.0           2020           AS       WPRO   \n",
       "13  American Samoa            114706.0           2021           AS       WPRO   \n",
       "14  American Samoa            114706.0           2022           AS       WPRO   \n",
       "\n",
       "    Cumulative_cases  Cumulative_deaths  \n",
       "0              52330               2189  \n",
       "1             158059               7356  \n",
       "2             207554               7849  \n",
       "3             227319               7952  \n",
       "4              57146               1170  \n",
       "5             208899               3212  \n",
       "6             332768               3596  \n",
       "7             334090               3604  \n",
       "8              99311               2751  \n",
       "9             218037               6271  \n",
       "10            271217               6881  \n",
       "11            271945               6881  \n",
       "12                 0                  0  \n",
       "13                11                  0  \n",
       "14              8285                 34  "
      ]
     },
     "execution_count": 6,
     "metadata": {},
     "output_type": "execute_result"
    }
   ],
   "source": [
    "final_df = pd.read_csv('./transformed_data.csv')\n",
    "final_df.head(15)"
   ]
  },
  {
   "cell_type": "code",
   "execution_count": null,
   "id": "a5d9e1bf",
   "metadata": {},
   "outputs": [],
   "source": []
  },
  {
   "cell_type": "code",
   "execution_count": 7,
   "id": "ab528820",
   "metadata": {},
   "outputs": [],
   "source": [
    "values1 = ['India', 'United States of America', 'China']\n",
    "\n",
    "graph1_data = final_df[final_df['Country'].isin(values1)]"
   ]
  },
  {
   "cell_type": "code",
   "execution_count": null,
   "id": "755dd153",
   "metadata": {},
   "outputs": [],
   "source": []
  },
  {
   "cell_type": "code",
   "execution_count": 8,
   "id": "8ce3fd4e",
   "metadata": {},
   "outputs": [
    {
     "data": {
      "image/png": "[encoded data removed]",
      "text/plain": [
       "<Figure size 1122.62x600 with 1 Axes>"
      ]
     },
     "metadata": {},
     "output_type": "display_data"
    }
   ],
   "source": [
    "sns.set(style=\"whitegrid\")  # Set the style (optional)\n",
    "g = sns.catplot(\n",
    "    x='Date_reported', y='Cumulative_cases', hue='Country',\n",
    "    data=graph1_data, kind='bar',\n",
    "    height=6, aspect=1.5  # Adjust the size and aspect ratio\n",
    ")"
   ]
  },
  {
   "cell_type": "code",
   "execution_count": null,
   "id": "a2790a97",
   "metadata": {},
   "outputs": [],
   "source": []
  },
  {
   "cell_type": "code",
   "execution_count": 10,
   "id": "1f29b7a5",
   "metadata": {},
   "outputs": [],
   "source": [
    "values2 = ['India', 'United States of America', 'China','Romania', 'South Africa', 'Australia']\n",
    "\n",
    "graph2_data = final_df[final_df['Country'].isin(values2)]"
   ]
  },
  {
   "cell_type": "code",
   "execution_count": null,
   "id": "87ab459d",
   "metadata": {},
   "outputs": [],
   "source": []
  },
  {
   "cell_type": "code",
   "execution_count": 11,
   "id": "ba18ad4c",
   "metadata": {},
   "outputs": [
    {
     "name": "stderr",
     "output_type": "stream",
     "text": [
      "/var/folders/hb/8pjw7gf90xx4tpfgbthf5mfm0000gn/T/ipykernel_10237/992271573.py:5: UserWarning: set_ticklabels() should only be used with a fixed number of ticks, i.e. after set_ticks() or using a FixedLocator.\n",
      "  ax.set_xticklabels(ax.get_xticklabels(), rotation=40, ha=\"right\")\n"
     ]
    },
    {
     "data": {
      "text/plain": [
       "Text(0, 0.5, 'Total_Vaccinations')"
      ]
     },
     "execution_count": 11,
     "metadata": {},
     "output_type": "execute_result"
    },
    {
     "data": {
      "image/png": "[encoded data removed]",
      "text/plain": [
       "<Figure size 640x480 with 1 Axes>"
      ]
     },
     "metadata": {},
     "output_type": "display_data"
    }
   ],
   "source": [
    "a = graph2_data['Country'].unique()\n",
    "b = graph2_data['TOTAL_VACCINATIONS'].unique()\n",
    "\n",
    "ax = sns.barplot(x=a, y=b)\n",
    "ax.set_xticklabels(ax.get_xticklabels(), rotation=40, ha=\"right\")\n",
    "\n",
    "plt.xlabel('Countries')\n",
    "plt.ylabel('Total_Vaccinations')"
   ]
  },
  {
   "cell_type": "code",
   "execution_count": null,
   "id": "242f6e79",
   "metadata": {},
   "outputs": [],
   "source": []
  },
  {
   "cell_type": "code",
   "execution_count": null,
   "id": "51c953c9",
   "metadata": {},
   "outputs": [],
   "source": [
    "print(\"visualized sucessfully!!!\")"
   ]
  }
 ],
 "metadata": {
  "kernelspec": {
   "display_name": "Python 3 (ipykernel)",
   "language": "python",
   "name": "python3"
  },
  "language_info": {
   "codemirror_mode": {
    "name": "ipython",
    "version": 3
   },
   "file_extension": ".py",
   "mimetype": "text/x-python",
   "name": "python",
   "nbconvert_exporter": "python",
   "pygments_lexer": "ipython3",
   "version": "3.11.5"
  }
 },
 "nbformat": 4,
 "nbformat_minor": 5
}
